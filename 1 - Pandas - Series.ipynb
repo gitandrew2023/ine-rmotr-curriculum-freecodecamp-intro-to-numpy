{
  "cells": [
    {
      "cell_type": "markdown",
      "metadata": {
        "id": "s7ikGJi5_1Vp"
      },
      "source": [
        "![rmotr](https://user-images.githubusercontent.com/7065401/52071918-bda15380-2562-11e9-828c-7f95297e4a82.png)\n",
        "<hr style=\"margin-bottom: 40px;\">\n",
        "\n",
        "<img src=\"https://user-images.githubusercontent.com/7065401/75165824-badf4680-5701-11ea-9c5b-5475b0a33abf.png\"\n",
        "    style=\"width:300px; float: right; margin: 0 40px 40px 40px;\"></img>\n",
        "\n",
        "# Pandas - Series\n"
      ]
    },
    {
      "cell_type": "markdown",
      "metadata": {
        "id": "BOdaBZ7o_1Vs"
      },
      "source": [
        "![purple-divider](https://user-images.githubusercontent.com/7065401/52071927-c1cd7100-2562-11e9-908a-dde91ba14e59.png)\n",
        "\n",
        "## Hands on!"
      ]
    },
    {
      "cell_type": "code",
      "execution_count": null,
      "metadata": {
        "id": "z6_ssxwg_1Vu"
      },
      "outputs": [],
      "source": [
        "import pandas as pd\n",
        "import numpy as np"
      ]
    },
    {
      "cell_type": "markdown",
      "metadata": {
        "id": "KCGlWmyb_1Vv"
      },
      "source": [
        "## Pandas Series\n",
        "\n",
        "We'll start analyzing \"[The Group of Seven](https://en.wikipedia.org/wiki/Group_of_Seven)\". Which is a political formed by Canada, France, Germany, Italy, Japan, the United Kingdom and the United States. We'll start by analyzing population, and for that, we'll use a `pandas.Series` object."
      ]
    },
    {
      "cell_type": "code",
      "execution_count": null,
      "metadata": {
        "id": "nLZ2nbW__1Vw"
      },
      "outputs": [],
      "source": [
        "# In millions\n",
        "g7_pop = pd.Series([35.467, 63.951, 80.940, 60.665, 127.061, 64.511, 318.523])"
      ]
    },
    {
      "cell_type": "code",
      "execution_count": null,
      "metadata": {
        "scrolled": true,
        "id": "2-VOq-S__1Vw",
        "outputId": "cb3f73dd-2aa1-42f9-ce07-dba4055df285"
      },
      "outputs": [
        {
          "data": {
            "text/plain": [
              "0     35.467\n",
              "1     63.951\n",
              "2     80.940\n",
              "3     60.665\n",
              "4    127.061\n",
              "5     64.511\n",
              "6    318.523\n",
              "dtype: float64"
            ]
          },
          "execution_count": 3,
          "metadata": {},
          "output_type": "execute_result"
        }
      ],
      "source": [
        "g7_pop"
      ]
    },
    {
      "cell_type": "markdown",
      "metadata": {
        "id": "NyXXF7uP_1Vx"
      },
      "source": [
        "Someone might not know we're representing population in millions of inhabitants. Series can have a `name`, to better document the purpose of the Series:"
      ]
    },
    {
      "cell_type": "code",
      "execution_count": null,
      "metadata": {
        "id": "RHfyjpj6_1Vx"
      },
      "outputs": [],
      "source": [
        "g7_pop.name = 'G7 Population in millions'"
      ]
    },
    {
      "cell_type": "code",
      "execution_count": null,
      "metadata": {
        "id": "GNdkTqpY_1Vy",
        "outputId": "c5592aee-51fe-414c-fedd-25903123758d"
      },
      "outputs": [
        {
          "data": {
            "text/plain": [
              "0     35.467\n",
              "1     63.951\n",
              "2     80.940\n",
              "3     60.665\n",
              "4    127.061\n",
              "5     64.511\n",
              "6    318.523\n",
              "Name: G7 Population in millions, dtype: float64"
            ]
          },
          "execution_count": 5,
          "metadata": {},
          "output_type": "execute_result"
        }
      ],
      "source": [
        "g7_pop"
      ]
    },
    {
      "cell_type": "markdown",
      "metadata": {
        "id": "44WtUTEH_1Vy"
      },
      "source": [
        "Series are pretty similar to numpy arrays:"
      ]
    },
    {
      "cell_type": "code",
      "execution_count": null,
      "metadata": {
        "id": "whS-G_8K_1Vy",
        "outputId": "92ac9a8a-7948-49a1-af73-65b3d9de3611"
      },
      "outputs": [
        {
          "data": {
            "text/plain": [
              "dtype('float64')"
            ]
          },
          "execution_count": 6,
          "metadata": {},
          "output_type": "execute_result"
        }
      ],
      "source": [
        "g7_pop.dtype"
      ]
    },
    {
      "cell_type": "code",
      "execution_count": null,
      "metadata": {
        "id": "cHCR4IEs_1Vz",
        "outputId": "cdfd1d05-afa8-4f59-b354-09fc0dfba968"
      },
      "outputs": [
        {
          "data": {
            "text/plain": [
              "array([ 35.467,  63.951,  80.94 ,  60.665, 127.061,  64.511, 318.523])"
            ]
          },
          "execution_count": 7,
          "metadata": {},
          "output_type": "execute_result"
        }
      ],
      "source": [
        "g7_pop.values"
      ]
    },
    {
      "cell_type": "markdown",
      "metadata": {
        "id": "CmFCnoo9_1Vz"
      },
      "source": [
        "They're actually backed by numpy arrays:"
      ]
    },
    {
      "cell_type": "code",
      "execution_count": null,
      "metadata": {
        "id": "n-apXhxV_1Vz",
        "outputId": "7846fe1b-186b-40e9-9277-70ed636ab1c0"
      },
      "outputs": [
        {
          "data": {
            "text/plain": [
              "numpy.ndarray"
            ]
          },
          "execution_count": 8,
          "metadata": {},
          "output_type": "execute_result"
        }
      ],
      "source": [
        "type(g7_pop.values)"
      ]
    },
    {
      "cell_type": "markdown",
      "metadata": {
        "id": "27dMh0eY_1Vz"
      },
      "source": [
        "And they _look_ like simple Python lists or Numpy Arrays. But they're actually more similar to Python `dict`s.\n",
        "\n",
        "A Series has an `index`, that's similar to the automatic index assigned to Python's lists:"
      ]
    },
    {
      "cell_type": "code",
      "execution_count": null,
      "metadata": {
        "id": "Mrtqofls_1Vz",
        "outputId": "bc4dda13-7e9b-4b68-afac-3011732f3afd"
      },
      "outputs": [
        {
          "data": {
            "text/plain": [
              "0     35.467\n",
              "1     63.951\n",
              "2     80.940\n",
              "3     60.665\n",
              "4    127.061\n",
              "5     64.511\n",
              "6    318.523\n",
              "Name: G7 Population in millions, dtype: float64"
            ]
          },
          "execution_count": 9,
          "metadata": {},
          "output_type": "execute_result"
        }
      ],
      "source": [
        "g7_pop"
      ]
    },
    {
      "cell_type": "code",
      "execution_count": null,
      "metadata": {
        "id": "nNor82S3_1Vz",
        "outputId": "aec4f690-ebe7-455a-ebeb-eae12157648a"
      },
      "outputs": [
        {
          "data": {
            "text/plain": [
              "35.467"
            ]
          },
          "execution_count": 10,
          "metadata": {},
          "output_type": "execute_result"
        }
      ],
      "source": [
        "g7_pop[0]"
      ]
    },
    {
      "cell_type": "code",
      "execution_count": null,
      "metadata": {
        "id": "k4jGTnFo_1Vz",
        "outputId": "8dc7ca07-4610-4d24-9b40-597dac53bfa1"
      },
      "outputs": [
        {
          "data": {
            "text/plain": [
              "63.951"
            ]
          },
          "execution_count": 11,
          "metadata": {},
          "output_type": "execute_result"
        }
      ],
      "source": [
        "g7_pop[1]"
      ]
    },
    {
      "cell_type": "code",
      "execution_count": null,
      "metadata": {
        "id": "XlCQ051G_1V0",
        "outputId": "70119168-1938-4449-c946-9d01d959d4a1"
      },
      "outputs": [
        {
          "data": {
            "text/plain": [
              "RangeIndex(start=0, stop=7, step=1)"
            ]
          },
          "execution_count": 12,
          "metadata": {},
          "output_type": "execute_result"
        }
      ],
      "source": [
        "g7_pop.index"
      ]
    },
    {
      "cell_type": "code",
      "execution_count": null,
      "metadata": {
        "id": "NaOWrqjY_1V0"
      },
      "outputs": [],
      "source": [
        "l = ['a', 'b', 'c']"
      ]
    },
    {
      "cell_type": "markdown",
      "metadata": {
        "id": "4-7ieeUM_1V0"
      },
      "source": [
        "But, in contrast to lists, we can explicitly define the index:"
      ]
    },
    {
      "cell_type": "code",
      "execution_count": null,
      "metadata": {
        "id": "IrXZrnVh_1V0"
      },
      "outputs": [],
      "source": [
        "g7_pop.index = [\n",
        "    'Canada',\n",
        "    'France',\n",
        "    'Germany',\n",
        "    'Italy',\n",
        "    'Japan',\n",
        "    'United Kingdom',\n",
        "    'United States',\n",
        "]"
      ]
    },
    {
      "cell_type": "code",
      "execution_count": null,
      "metadata": {
        "id": "2fnuo49H_1V0",
        "outputId": "170fade8-4856-4cbe-ee43-ea5b7dea1652"
      },
      "outputs": [
        {
          "data": {
            "text/plain": [
              "Canada             35.467\n",
              "France             63.951\n",
              "Germany            80.940\n",
              "Italy              60.665\n",
              "Japan             127.061\n",
              "United Kingdom     64.511\n",
              "United States     318.523\n",
              "Name: G7 Population in millions, dtype: float64"
            ]
          },
          "execution_count": 15,
          "metadata": {},
          "output_type": "execute_result"
        }
      ],
      "source": [
        "g7_pop"
      ]
    },
    {
      "cell_type": "markdown",
      "metadata": {
        "id": "OjSnO1zy_1V1"
      },
      "source": [
        "Compare it with the [following table](https://docs.google.com/spreadsheets/d/1IlorV2-Oh9Da1JAZ7weVw86PQrQydSMp-ydVMH135iI/edit?usp=sharing):\n",
        "\n",
        "<img width=\"350\" src=\"https://user-images.githubusercontent.com/872296/38149656-b5ce9816-3431-11e8-88e4-195756e25355.png\" />\n",
        "\n",
        "We can say that Series look like \"ordered dictionaries\". We can actually create Series out of dictionaries:"
      ]
    },
    {
      "cell_type": "code",
      "execution_count": null,
      "metadata": {
        "scrolled": true,
        "id": "ty0xLs8f_1V1",
        "outputId": "fc206e03-1f13-4e9f-c49b-1bdbfe3a0301"
      },
      "outputs": [
        {
          "data": {
            "text/plain": [
              "Canada             35.467\n",
              "France             63.951\n",
              "Germany            80.940\n",
              "Italy              60.665\n",
              "Japan             127.061\n",
              "United Kingdom     64.511\n",
              "United States     318.523\n",
              "Name: G7 Population in millions, dtype: float64"
            ]
          },
          "execution_count": 16,
          "metadata": {},
          "output_type": "execute_result"
        }
      ],
      "source": [
        "pd.Series({\n",
        "    'Canada': 35.467,\n",
        "    'France': 63.951,\n",
        "    'Germany': 80.94,\n",
        "    'Italy': 60.665,\n",
        "    'Japan': 127.061,\n",
        "    'United Kingdom': 64.511,\n",
        "    'United States': 318.523\n",
        "}, name='G7 Population in millions')"
      ]
    },
    {
      "cell_type": "code",
      "execution_count": null,
      "metadata": {
        "id": "Lg6gSlTA_1V1",
        "outputId": "2316d859-5bf9-4e7e-c9b3-483a7dbc5389"
      },
      "outputs": [
        {
          "data": {
            "text/plain": [
              "Canada             35.467\n",
              "France             63.951\n",
              "Germany            80.940\n",
              "Italy              60.665\n",
              "Japan             127.061\n",
              "United Kingdom     64.511\n",
              "United States     318.523\n",
              "Name: G7 Population in millions, dtype: float64"
            ]
          },
          "execution_count": 17,
          "metadata": {},
          "output_type": "execute_result"
        }
      ],
      "source": [
        "pd.Series(\n",
        "    [35.467, 63.951, 80.94, 60.665, 127.061, 64.511, 318.523],\n",
        "    index=['Canada', 'France', 'Germany', 'Italy', 'Japan', 'United Kingdom',\n",
        "       'United States'],\n",
        "    name='G7 Population in millions')"
      ]
    },
    {
      "cell_type": "markdown",
      "metadata": {
        "id": "YyP9tdWk_1V1"
      },
      "source": [
        "You can also create Series out of other series, specifying indexes:"
      ]
    },
    {
      "cell_type": "code",
      "execution_count": null,
      "metadata": {
        "id": "m4wvxzTG_1V1",
        "outputId": "c3de19d4-c906-482e-ac77-e7fcbc8bfe7e"
      },
      "outputs": [
        {
          "data": {
            "text/plain": [
              "France     63.951\n",
              "Germany    80.940\n",
              "Italy      60.665\n",
              "Spain         NaN\n",
              "Name: G7 Population in millions, dtype: float64"
            ]
          },
          "execution_count": 18,
          "metadata": {},
          "output_type": "execute_result"
        }
      ],
      "source": [
        "pd.Series(g7_pop, index=['France', 'Germany', 'Italy', 'Spain'])"
      ]
    },
    {
      "cell_type": "markdown",
      "metadata": {
        "id": "x83X8_7__1V1"
      },
      "source": [
        "![green-divider](https://user-images.githubusercontent.com/7065401/52071924-c003ad80-2562-11e9-8297-1c6595f8a7ff.png)\n",
        "\n",
        "## Indexing\n",
        "\n",
        "Indexing works similarly to lists and dictionaries, you use the **index** of the element you're looking for:"
      ]
    },
    {
      "cell_type": "code",
      "execution_count": null,
      "metadata": {
        "id": "nrbaVbGc_1V1",
        "outputId": "94cbce94-13ee-47ff-867d-a856c90c51ff"
      },
      "outputs": [
        {
          "data": {
            "text/plain": [
              "Canada             35.467\n",
              "France             63.951\n",
              "Germany            80.940\n",
              "Italy              60.665\n",
              "Japan             127.061\n",
              "United Kingdom     64.511\n",
              "United States     318.523\n",
              "Name: G7 Population in millions, dtype: float64"
            ]
          },
          "execution_count": 19,
          "metadata": {},
          "output_type": "execute_result"
        }
      ],
      "source": [
        "g7_pop"
      ]
    },
    {
      "cell_type": "code",
      "execution_count": null,
      "metadata": {
        "id": "dwiFHD1W_1V2",
        "outputId": "b22f44d8-f368-492b-d8b4-11298f077e41"
      },
      "outputs": [
        {
          "data": {
            "text/plain": [
              "35.467"
            ]
          },
          "execution_count": 20,
          "metadata": {},
          "output_type": "execute_result"
        }
      ],
      "source": [
        "g7_pop['Canada']"
      ]
    },
    {
      "cell_type": "code",
      "execution_count": null,
      "metadata": {
        "id": "8Wo7LiSj_1V2",
        "outputId": "05a30041-7128-4b08-8971-bf72d890fd2d"
      },
      "outputs": [
        {
          "data": {
            "text/plain": [
              "127.061"
            ]
          },
          "execution_count": 21,
          "metadata": {},
          "output_type": "execute_result"
        }
      ],
      "source": [
        "g7_pop['Japan']"
      ]
    },
    {
      "cell_type": "markdown",
      "metadata": {
        "id": "M3xofcuY_1V2"
      },
      "source": [
        "Numeric positions can also be used, with the `iloc` attribute:"
      ]
    },
    {
      "cell_type": "code",
      "execution_count": null,
      "metadata": {
        "id": "rm_dyIH7_1V2",
        "outputId": "94af14f7-ede9-4d3c-8383-d0d0dec66f0f"
      },
      "outputs": [
        {
          "data": {
            "text/plain": [
              "35.467"
            ]
          },
          "execution_count": 22,
          "metadata": {},
          "output_type": "execute_result"
        }
      ],
      "source": [
        "g7_pop.iloc[0]"
      ]
    },
    {
      "cell_type": "code",
      "execution_count": null,
      "metadata": {
        "scrolled": true,
        "id": "QKBdixiR_1V3",
        "outputId": "740263f7-67ff-4dd4-cc83-7694b0eadadb"
      },
      "outputs": [
        {
          "data": {
            "text/plain": [
              "318.523"
            ]
          },
          "execution_count": 23,
          "metadata": {},
          "output_type": "execute_result"
        }
      ],
      "source": [
        "g7_pop.iloc[-1]"
      ]
    },
    {
      "cell_type": "markdown",
      "metadata": {
        "id": "OBSbPa7L_1V3"
      },
      "source": [
        "Selecting multiple elements at once:"
      ]
    },
    {
      "cell_type": "code",
      "execution_count": null,
      "metadata": {
        "scrolled": true,
        "id": "lo21To7K_1V3",
        "outputId": "7208ce31-9a90-430e-873b-0b308d714fc3"
      },
      "outputs": [
        {
          "data": {
            "text/plain": [
              "Italy     60.665\n",
              "France    63.951\n",
              "Name: G7 Population in millions, dtype: float64"
            ]
          },
          "execution_count": 24,
          "metadata": {},
          "output_type": "execute_result"
        }
      ],
      "source": [
        "g7_pop[['Italy', 'France']]"
      ]
    },
    {
      "cell_type": "markdown",
      "metadata": {
        "id": "U9L_hAIM_1V3"
      },
      "source": [
        "_(The result is another Series)_"
      ]
    },
    {
      "cell_type": "code",
      "execution_count": null,
      "metadata": {
        "scrolled": true,
        "id": "wUw4Zx_c_1V3",
        "outputId": "c8a7ce7c-cf06-40d4-a871-a296b708cf62"
      },
      "outputs": [
        {
          "data": {
            "text/plain": [
              "Canada    35.467\n",
              "France    63.951\n",
              "Name: G7 Population in millions, dtype: float64"
            ]
          },
          "execution_count": 25,
          "metadata": {},
          "output_type": "execute_result"
        }
      ],
      "source": [
        "g7_pop.iloc[[0, 1]]"
      ]
    },
    {
      "cell_type": "markdown",
      "metadata": {
        "id": "5VNR6_5a_1V4"
      },
      "source": [
        "Slicing also works, but **important**, in Pandas, the upper limit is also included:"
      ]
    },
    {
      "cell_type": "code",
      "execution_count": null,
      "metadata": {
        "id": "DgP9A6q0_1V4",
        "outputId": "890df154-274c-413e-cb3b-345452f28876"
      },
      "outputs": [
        {
          "data": {
            "text/plain": [
              "Canada     35.467\n",
              "France     63.951\n",
              "Germany    80.940\n",
              "Italy      60.665\n",
              "Name: G7 Population in millions, dtype: float64"
            ]
          },
          "execution_count": 28,
          "metadata": {},
          "output_type": "execute_result"
        }
      ],
      "source": [
        "g7_pop['Canada': 'Italy']"
      ]
    },
    {
      "cell_type": "markdown",
      "metadata": {
        "id": "hGShLVbd_1V4"
      },
      "source": [
        "![green-divider](https://user-images.githubusercontent.com/7065401/52071924-c003ad80-2562-11e9-8297-1c6595f8a7ff.png)\n",
        "\n",
        "## Conditional selection (boolean arrays)\n",
        "\n",
        "The same boolean array techniques we saw applied to numpy arrays can be used for Pandas `Series`:"
      ]
    },
    {
      "cell_type": "code",
      "execution_count": null,
      "metadata": {
        "id": "aP0PbkuF_1V4",
        "outputId": "da845fbc-075d-482f-b431-da67c855f3bd"
      },
      "outputs": [
        {
          "data": {
            "text/plain": [
              "Canada             35.467\n",
              "France             63.951\n",
              "Germany            80.940\n",
              "Italy              60.665\n",
              "Japan             127.061\n",
              "United Kingdom     64.511\n",
              "United States     318.523\n",
              "Name: G7 Population in millions, dtype: float64"
            ]
          },
          "execution_count": 31,
          "metadata": {},
          "output_type": "execute_result"
        }
      ],
      "source": [
        "g7_pop"
      ]
    },
    {
      "cell_type": "code",
      "execution_count": null,
      "metadata": {
        "id": "IJexoNkp_1V4",
        "outputId": "d9acd4a5-4e91-471a-9228-8be6f5b019a4"
      },
      "outputs": [
        {
          "data": {
            "text/plain": [
              "Canada            False\n",
              "France            False\n",
              "Germany            True\n",
              "Italy             False\n",
              "Japan              True\n",
              "United Kingdom    False\n",
              "United States      True\n",
              "Name: G7 Population in millions, dtype: bool"
            ]
          },
          "execution_count": 32,
          "metadata": {},
          "output_type": "execute_result"
        }
      ],
      "source": [
        "g7_pop > 70"
      ]
    },
    {
      "cell_type": "code",
      "execution_count": null,
      "metadata": {
        "id": "N80xd6rY_1V4",
        "outputId": "e2119e7c-4354-4b1c-ed5e-01a84bf0ac6c"
      },
      "outputs": [
        {
          "data": {
            "text/plain": [
              "Germany           80.940\n",
              "Japan            127.061\n",
              "United States    318.523\n",
              "Name: G7 Population in millions, dtype: float64"
            ]
          },
          "execution_count": 33,
          "metadata": {},
          "output_type": "execute_result"
        }
      ],
      "source": [
        "g7_pop[g7_pop > 70]"
      ]
    },
    {
      "cell_type": "code",
      "execution_count": null,
      "metadata": {
        "id": "-554cUGG_1V4",
        "outputId": "2cccf924-6704-4655-8049-8f4ec7a71f56"
      },
      "outputs": [
        {
          "data": {
            "text/plain": [
              "107.30257142857144"
            ]
          },
          "execution_count": 34,
          "metadata": {},
          "output_type": "execute_result"
        }
      ],
      "source": [
        "g7_pop.mean()"
      ]
    },
    {
      "cell_type": "code",
      "execution_count": null,
      "metadata": {
        "id": "QYyKSaD__1V5",
        "outputId": "cfa75409-3e64-43a5-956e-56b55c5ac69f"
      },
      "outputs": [
        {
          "data": {
            "text/plain": [
              "Japan            127.061\n",
              "United States    318.523\n",
              "Name: G7 Population in millions, dtype: float64"
            ]
          },
          "execution_count": 35,
          "metadata": {},
          "output_type": "execute_result"
        }
      ],
      "source": [
        "g7_pop[g7_pop > g7_pop.mean()]"
      ]
    },
    {
      "cell_type": "code",
      "execution_count": null,
      "metadata": {
        "id": "FHUp_5uB_1V5"
      },
      "outputs": [],
      "source": [
        "g7_pop.std()"
      ]
    },
    {
      "cell_type": "code",
      "execution_count": null,
      "metadata": {
        "id": "PhWhpvCj_1V5"
      },
      "outputs": [],
      "source": [
        "~ not\n",
        "| or\n",
        "& and"
      ]
    },
    {
      "cell_type": "code",
      "execution_count": null,
      "metadata": {
        "scrolled": true,
        "id": "TLF5-SsX_1V5"
      },
      "outputs": [],
      "source": [
        "g7_pop[(g7_pop > g7_pop.mean() - g7_pop.std() / 2) | (g7_pop > g7_pop.mean() + g7_pop.std() / 2)]"
      ]
    },
    {
      "cell_type": "markdown",
      "metadata": {
        "id": "zyDR6oQE_1V5"
      },
      "source": [
        "![green-divider](https://user-images.githubusercontent.com/7065401/52071924-c003ad80-2562-11e9-8297-1c6595f8a7ff.png)\n",
        "\n",
        "## Operations and methods\n",
        "Series also support vectorized operations and aggregation functions as Numpy:"
      ]
    },
    {
      "cell_type": "code",
      "execution_count": null,
      "metadata": {
        "id": "66LRtTVu_1V5",
        "outputId": "48b08b5e-bbfd-4a97-f387-1787fbd893f6"
      },
      "outputs": [
        {
          "data": {
            "text/plain": [
              "Canada             35.467\n",
              "France             63.951\n",
              "Germany            80.940\n",
              "Italy              60.665\n",
              "Japan             127.061\n",
              "United Kingdom     64.511\n",
              "United States     318.523\n",
              "Name: G7 Population in millions, dtype: float64"
            ]
          },
          "execution_count": 29,
          "metadata": {},
          "output_type": "execute_result"
        }
      ],
      "source": [
        "g7_pop"
      ]
    },
    {
      "cell_type": "code",
      "execution_count": null,
      "metadata": {
        "id": "3Z6lCYts_1V5",
        "outputId": "515e2ac6-6285-462f-ccc8-a4b61b41bb64"
      },
      "outputs": [
        {
          "data": {
            "text/plain": [
              "Canada             35467000.0\n",
              "France             63951000.0\n",
              "Germany            80940000.0\n",
              "Italy              60665000.0\n",
              "Japan             127061000.0\n",
              "United Kingdom     64511000.0\n",
              "United States     318523000.0\n",
              "Name: G7 Population in millions, dtype: float64"
            ]
          },
          "execution_count": 30,
          "metadata": {},
          "output_type": "execute_result"
        }
      ],
      "source": [
        "g7_pop * 1_000_000"
      ]
    },
    {
      "cell_type": "code",
      "execution_count": null,
      "metadata": {
        "id": "Mjlk5deY_1V5",
        "outputId": "21d97472-ee48-47ca-8125-af49aeb141ce"
      },
      "outputs": [
        {
          "data": {
            "text/plain": [
              "107.30257142857144"
            ]
          },
          "execution_count": 36,
          "metadata": {},
          "output_type": "execute_result"
        }
      ],
      "source": [
        "g7_pop.mean()"
      ]
    },
    {
      "cell_type": "code",
      "execution_count": null,
      "metadata": {
        "scrolled": true,
        "id": "vyTtpkA1_1V6",
        "outputId": "870e2c2b-a804-46f5-891e-b1d40277d7eb"
      },
      "outputs": [
        {
          "data": {
            "text/plain": [
              "Canada            3.568603\n",
              "France            4.158117\n",
              "Germany           4.393708\n",
              "Italy             4.105367\n",
              "Japan             4.844667\n",
              "United Kingdom    4.166836\n",
              "United States     5.763695\n",
              "Name: G7 Population in millions, dtype: float64"
            ]
          },
          "execution_count": 37,
          "metadata": {},
          "output_type": "execute_result"
        }
      ],
      "source": [
        "np.log(g7_pop)"
      ]
    },
    {
      "cell_type": "code",
      "execution_count": null,
      "metadata": {
        "id": "MZl6Rinv_1V6",
        "outputId": "868445a5-d6f4-404d-fb6c-5cf424c16423"
      },
      "outputs": [
        {
          "data": {
            "text/plain": [
              "68.51866666666666"
            ]
          },
          "execution_count": 38,
          "metadata": {},
          "output_type": "execute_result"
        }
      ],
      "source": [
        "g7_pop['France': 'Italy'].mean()"
      ]
    },
    {
      "cell_type": "markdown",
      "metadata": {
        "id": "dnKzaN9W_1V6"
      },
      "source": [
        "![green-divider](https://user-images.githubusercontent.com/7065401/52071924-c003ad80-2562-11e9-8297-1c6595f8a7ff.png)\n",
        "\n",
        "## Boolean arrays\n",
        "(Work in the same way as numpy)"
      ]
    },
    {
      "cell_type": "code",
      "execution_count": null,
      "metadata": {
        "id": "3qjmvvCU_1V6",
        "outputId": "24d6b96e-0967-4cb0-b7d9-b38ee88c6dd5"
      },
      "outputs": [
        {
          "data": {
            "text/plain": [
              "Canada             35.467\n",
              "France             63.951\n",
              "Germany            80.940\n",
              "Italy              60.665\n",
              "Japan             127.061\n",
              "United Kingdom     64.511\n",
              "United States     318.523\n",
              "Name: G7 Population in millions, dtype: float64"
            ]
          },
          "execution_count": 39,
          "metadata": {},
          "output_type": "execute_result"
        }
      ],
      "source": [
        "g7_pop"
      ]
    },
    {
      "cell_type": "code",
      "execution_count": null,
      "metadata": {
        "id": "ZqJA5AU2_1V6",
        "outputId": "0ff4d936-2d73-4c09-eb22-1b36ba846bdb"
      },
      "outputs": [
        {
          "data": {
            "text/plain": [
              "Canada            False\n",
              "France            False\n",
              "Germany            True\n",
              "Italy             False\n",
              "Japan              True\n",
              "United Kingdom    False\n",
              "United States      True\n",
              "Name: G7 Population in millions, dtype: bool"
            ]
          },
          "execution_count": 40,
          "metadata": {},
          "output_type": "execute_result"
        }
      ],
      "source": [
        "g7_pop > 80"
      ]
    },
    {
      "cell_type": "code",
      "execution_count": null,
      "metadata": {
        "scrolled": true,
        "id": "VDFVMHz1_1V6",
        "outputId": "67085c27-f7b9-41d4-853b-e3e2c7d94d3f"
      },
      "outputs": [
        {
          "data": {
            "text/plain": [
              "Germany           80.940\n",
              "Japan            127.061\n",
              "United States    318.523\n",
              "Name: G7 Population in millions, dtype: float64"
            ]
          },
          "execution_count": 41,
          "metadata": {},
          "output_type": "execute_result"
        }
      ],
      "source": [
        "g7_pop[g7_pop > 80]"
      ]
    },
    {
      "cell_type": "code",
      "execution_count": null,
      "metadata": {
        "scrolled": true,
        "id": "YvCDQe7x_1V6",
        "outputId": "2025ab84-48c5-4aab-a7c4-6865f53d1418"
      },
      "outputs": [
        {
          "data": {
            "text/plain": [
              "Canada            35.467\n",
              "Germany           80.940\n",
              "Japan            127.061\n",
              "United States    318.523\n",
              "Name: G7 Population in millions, dtype: float64"
            ]
          },
          "execution_count": 42,
          "metadata": {},
          "output_type": "execute_result"
        }
      ],
      "source": [
        "g7_pop[(g7_pop > 80) | (g7_pop < 40)]"
      ]
    },
    {
      "cell_type": "code",
      "execution_count": null,
      "metadata": {
        "scrolled": true,
        "id": "pFjxvLG-_1V7",
        "outputId": "2ed68faf-2623-4be1-85b0-2186451b219d"
      },
      "outputs": [
        {
          "data": {
            "text/plain": [
              "Germany     80.940\n",
              "Japan      127.061\n",
              "Name: G7 Population in millions, dtype: float64"
            ]
          },
          "execution_count": 43,
          "metadata": {},
          "output_type": "execute_result"
        }
      ],
      "source": [
        "g7_pop[(g7_pop > 80) & (g7_pop < 200)]"
      ]
    },
    {
      "cell_type": "markdown",
      "metadata": {
        "id": "8IX7b9l1_1V7"
      },
      "source": [
        "![green-divider](https://user-images.githubusercontent.com/7065401/52071924-c003ad80-2562-11e9-8297-1c6595f8a7ff.png)\n",
        "\n",
        "## Modifying series\n"
      ]
    },
    {
      "cell_type": "code",
      "execution_count": null,
      "metadata": {
        "id": "WpGlBzhN_1V7"
      },
      "outputs": [],
      "source": [
        "g7_pop['Canada'] = 40.5"
      ]
    },
    {
      "cell_type": "code",
      "execution_count": null,
      "metadata": {
        "id": "EanMU64T_1V7",
        "outputId": "239983b7-f080-4fd4-924b-3e117f429750"
      },
      "outputs": [
        {
          "data": {
            "text/plain": [
              "Canada             40.500\n",
              "France             63.951\n",
              "Germany            80.940\n",
              "Italy              60.665\n",
              "Japan             127.061\n",
              "United Kingdom     64.511\n",
              "United States     318.523\n",
              "Name: G7 Population in millions, dtype: float64"
            ]
          },
          "execution_count": 45,
          "metadata": {},
          "output_type": "execute_result"
        }
      ],
      "source": [
        "g7_pop"
      ]
    },
    {
      "cell_type": "code",
      "execution_count": null,
      "metadata": {
        "id": "S50IXE1K_1V7"
      },
      "outputs": [],
      "source": [
        "g7_pop.iloc[-1] = 500"
      ]
    },
    {
      "cell_type": "code",
      "execution_count": null,
      "metadata": {
        "id": "lPexUwQO_1V7",
        "outputId": "d8a673b2-031d-4a0d-f426-fcdd0384de9d"
      },
      "outputs": [
        {
          "data": {
            "text/plain": [
              "Canada             40.500\n",
              "France             63.951\n",
              "Germany            80.940\n",
              "Italy              60.665\n",
              "Japan             127.061\n",
              "United Kingdom     64.511\n",
              "United States     500.000\n",
              "Name: G7 Population in millions, dtype: float64"
            ]
          },
          "execution_count": 47,
          "metadata": {},
          "output_type": "execute_result"
        }
      ],
      "source": [
        "g7_pop"
      ]
    },
    {
      "cell_type": "code",
      "execution_count": null,
      "metadata": {
        "id": "xLCiRIJ3_1V8",
        "outputId": "90eb2267-67c6-4b6a-a3ea-7ba9e575bc73"
      },
      "outputs": [
        {
          "data": {
            "text/plain": [
              "Canada            40.500\n",
              "France            63.951\n",
              "Italy             60.665\n",
              "United Kingdom    64.511\n",
              "Name: G7 Population in millions, dtype: float64"
            ]
          },
          "execution_count": 48,
          "metadata": {},
          "output_type": "execute_result"
        }
      ],
      "source": [
        "g7_pop[g7_pop < 70]"
      ]
    },
    {
      "cell_type": "code",
      "execution_count": null,
      "metadata": {
        "id": "7e0KoA2J_1V8"
      },
      "outputs": [],
      "source": [
        "g7_pop[g7_pop < 70] = 99.99"
      ]
    },
    {
      "cell_type": "code",
      "execution_count": null,
      "metadata": {
        "scrolled": true,
        "id": "tw4QWAjH_1V8",
        "outputId": "22e0149e-927b-4bdd-cd75-abccd1dad7c1"
      },
      "outputs": [
        {
          "data": {
            "text/plain": [
              "Canada             99.990\n",
              "France             99.990\n",
              "Germany            80.940\n",
              "Italy              99.990\n",
              "Japan             127.061\n",
              "United Kingdom     99.990\n",
              "United States     500.000\n",
              "Name: G7 Population in millions, dtype: float64"
            ]
          },
          "execution_count": 50,
          "metadata": {},
          "output_type": "execute_result"
        }
      ],
      "source": [
        "g7_pop"
      ]
    },
    {
      "cell_type": "markdown",
      "metadata": {
        "id": "futtu-ce_1V8"
      },
      "source": [
        "![purple-divider](https://user-images.githubusercontent.com/7065401/52071927-c1cd7100-2562-11e9-908a-dde91ba14e59.png)\n"
      ]
    }
  ],
  "metadata": {
    "kernelspec": {
      "display_name": "Python 3",
      "language": "python",
      "name": "python3"
    },
    "language_info": {
      "codemirror_mode": {
        "name": "ipython",
        "version": 3
      },
      "file_extension": ".py",
      "mimetype": "text/x-python",
      "name": "python",
      "nbconvert_exporter": "python",
      "pygments_lexer": "ipython3",
      "version": "3.8.1"
    },
    "colab": {
      "provenance": []
    }
  },
  "nbformat": 4,
  "nbformat_minor": 0
}